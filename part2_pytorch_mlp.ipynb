{
 "cells": [
  {
   "cell_type": "markdown",
   "metadata": {},
   "source": []
  },
  {
   "cell_type": "code",
   "execution_count": 2,
   "metadata": {},
   "outputs": [],
   "source": [
    "import numpy as np\n",
    "import matplotlib.pyplot as plt\n",
    "import torch\n",
    "import torch.nn as nn\n",
    "import torch.nn.functional as F\n",
    "from torchvision import transforms, datasets"
   ]
  },
  {
   "cell_type": "code",
   "execution_count": 3,
   "metadata": {},
   "outputs": [
    {
     "name": "stdout",
     "output_type": "stream",
     "text": [
      "Using PyTorch version: 2.0.0+cpu Device: cpu\n"
     ]
    }
   ],
   "source": [
    "if torch.cuda.is_available():\n",
    "    DEVICE = torch.device('cuda')\n",
    "else:\n",
    "    DEVICE = torch.device('cpu')\n",
    "\n",
    "print('Using PyTorch version:', torch.__version__, 'Device:', DEVICE)"
   ]
  },
  {
   "cell_type": "code",
   "execution_count": 4,
   "metadata": {},
   "outputs": [],
   "source": [
    "BATCH_SIZE =32\n",
    "EPOCHS = 10"
   ]
  },
  {
   "cell_type": "code",
   "execution_count": 5,
   "metadata": {},
   "outputs": [],
   "source": [
    "train_dataset= datasets.MNIST(root = \"../data/MNIST,\",\n",
    "                              train = True,\n",
    "                              download=True,\n",
    "                              transform =transforms.ToTensor())\n",
    "\n",
    "test_dataset= datasets.MNIST(root=\"../data/MNIST\",\n",
    "                             train = False,\n",
    "                             download=True,\n",
    "                             transform = transforms.ToTensor())\n",
    "train_loader = torch.utils.data.DataLoader(dataset = train_dataset,\n",
    "                                           batch_size= BATCH_SIZE,\n",
    "                                           shuffle= True)\n",
    "test_loader = torch.utils.data.DataLoader(dataset = test_dataset,\n",
    "                                          batch_size = BATCH_SIZE,\n",
    "                                          shuffle = False)\n",
    "\n"
   ]
  },
  {
   "cell_type": "code",
   "execution_count": 6,
   "metadata": {},
   "outputs": [
    {
     "name": "stdout",
     "output_type": "stream",
     "text": [
      "X_train: torch.Size([32, 1, 28, 28]) type: torch.FloatTensor\n",
      "y_train: torch.Size([32]) type: torch.LongTensor\n"
     ]
    }
   ],
   "source": [
    "for (X_train, y_train) in train_loader:\n",
    "    print('X_train:', X_train.size(), 'type:', X_train.type())\n",
    "    print('y_train:', y_train.size(), 'type:', y_train.type())\n",
    "    break"
   ]
  },
  {
   "cell_type": "code",
   "execution_count": 7,
   "metadata": {},
   "outputs": [
    {
     "data": {
      "image/png": "[encoded data removed]",
      "text/plain": [
       "<Figure size 720x72 with 10 Axes>"
      ]
     },
     "metadata": {
      "needs_background": "light"
     },
     "output_type": "display_data"
    }
   ],
   "source": [
    "pltsize =1\n",
    "plt.figure(figsize=(10* pltsize, pltsize))\n",
    "for i in range(10):\n",
    "    plt.subplot(1, 10, i+1)\n",
    "    plt.axis('off')\n",
    "    plt.imshow(X_train[i, :, :, :].numpy().reshape(28,28), cmap= 'gray_r')\n",
    "    plt.title('Class: '+ str(y_train[i].item()))\n",
    "\n",
    "    "
   ]
  },
  {
   "cell_type": "code",
   "execution_count": 9,
   "metadata": {},
   "outputs": [],
   "source": [
    "class Net(nn.Module):\n",
    "    def __init__(self):\n",
    "        super(Net, self).__init__()\n",
    "        self.fc1 = nn.Linear(28*28, 512)\n",
    "        self.fc2 = nn.Linear(512, 256)\n",
    "        self.fc3 = nn.Linear(256, 10)\n",
    "    def forward(self, x):\n",
    "        x = x.view(-1, 28*28)\n",
    "        x= self.fc1(x)\n",
    "        x= F.sigmoid(x)\n",
    "        x= self.fc2(x)\n",
    "        x= F.sigmoid(x)\n",
    "        x= self.fc3(x)\n",
    "        x= F.log_softmax(x, dim =1)\n",
    "        return x\n"
   ]
  },
  {
   "cell_type": "code",
   "execution_count": 10,
   "metadata": {},
   "outputs": [
    {
     "name": "stdout",
     "output_type": "stream",
     "text": [
      "Net(\n",
      "  (fc1): Linear(in_features=784, out_features=512, bias=True)\n",
      "  (fc2): Linear(in_features=512, out_features=256, bias=True)\n",
      "  (fc3): Linear(in_features=256, out_features=10, bias=True)\n",
      ")\n"
     ]
    }
   ],
   "source": [
    "model = Net().to(DEVICE)\n",
    "optimizer = torch.optim.SGD(model.parameters(), lr= 0.01, momentum = 0.5)\n",
    "criterion = nn.CrossEntropyLoss()\n",
    "\n",
    "print(model)"
   ]
  },
  {
   "cell_type": "code",
   "execution_count": 12,
   "metadata": {},
   "outputs": [],
   "source": [
    "def train(model, train_loader, optimizer, log_interval):\n",
    "    model.train()\n",
    "    for batch_idx, (image, label) in enumerate(train_loader):\n",
    "        image = image.to(DEVICE)\n",
    "        label = label.to(DEVICE)\n",
    "        optimizer.zero_grad()\n",
    "        output = model(image)\n",
    "        loss = criterion(output, label)\n",
    "        loss.backward()\n",
    "        optimizer.step()\n",
    "\n",
    "        if batch_idx % log_interval ==0 :\n",
    "            print(\"Train Epoch: {} [{}/{}{:.0f}%]\\tTrain Loss: {:.6f}\".format(\n",
    "                Epoch, batch_idx * len(image),\n",
    "                len(train_loader.dataset), 100. * batch_idx / len(train_loader),\n",
    "                loss.item()))\n"
   ]
  },
  {
   "cell_type": "code",
   "execution_count": 13,
   "metadata": {},
   "outputs": [],
   "source": [
    "def evaluate(model, test_loader):\n",
    "    model.eval()\n",
    "    test_loss = 0\n",
    "    correct=0\n",
    "\n",
    "    with torch.no_grad():\n",
    "        for image, label in test_loader:\n",
    "            image = image.to(DEVICE)\n",
    "            label = label.to(DEVICE)\n",
    "            output = model(image)\n",
    "            test_loss += criterion(output, label).item()\n",
    "            prediction = output.max(1, keepdim =True)[1]\n",
    "            correct += prediction.eq(label.view_as(prediction)).sum().item()\n",
    "\n",
    "    test_loss /= len(test_loader.dataset)\n",
    "    test_accuracy = 100 *correct/ len(test_loader.dataset)\n",
    "    return test_loss, test_accuracy"
   ]
  },
  {
   "cell_type": "code",
   "execution_count": 14,
   "metadata": {},
   "outputs": [
    {
     "name": "stdout",
     "output_type": "stream",
     "text": [
      "Train Epoch: 1 [0/600000%]\tTrain Loss: 2.346673\n",
      "Train Epoch: 1 [6400/6000011%]\tTrain Loss: 2.335307\n",
      "Train Epoch: 1 [12800/6000021%]\tTrain Loss: 2.278524\n",
      "Train Epoch: 1 [19200/6000032%]\tTrain Loss: 2.340184\n",
      "Train Epoch: 1 [25600/6000043%]\tTrain Loss: 2.335945\n",
      "Train Epoch: 1 [32000/6000053%]\tTrain Loss: 2.282367\n",
      "Train Epoch: 1 [38400/6000064%]\tTrain Loss: 2.269466\n",
      "Train Epoch: 1 [44800/6000075%]\tTrain Loss: 2.262807\n",
      "Train Epoch: 1 [51200/6000085%]\tTrain Loss: 2.287188\n",
      "Train Epoch: 1 [57600/6000096%]\tTrain Loss: 2.242288\n",
      "\n",
      "[EPOCH: 1], \tTest Loss: 0.0700, \tTest Accuracy: 21.63 %\n",
      "\n",
      "Train Epoch: 2 [0/600000%]\tTrain Loss: 2.296594\n",
      "Train Epoch: 2 [6400/6000011%]\tTrain Loss: 2.179135\n",
      "Train Epoch: 2 [12800/6000021%]\tTrain Loss: 2.213916\n",
      "Train Epoch: 2 [19200/6000032%]\tTrain Loss: 2.081136\n",
      "Train Epoch: 2 [25600/6000043%]\tTrain Loss: 2.029723\n",
      "Train Epoch: 2 [32000/6000053%]\tTrain Loss: 1.914353\n",
      "Train Epoch: 2 [38400/6000064%]\tTrain Loss: 1.735379\n",
      "Train Epoch: 2 [44800/6000075%]\tTrain Loss: 1.638823\n",
      "Train Epoch: 2 [51200/6000085%]\tTrain Loss: 1.315245\n",
      "Train Epoch: 2 [57600/6000096%]\tTrain Loss: 1.386217\n",
      "\n",
      "[EPOCH: 2], \tTest Loss: 0.0411, \tTest Accuracy: 60.83 %\n",
      "\n",
      "Train Epoch: 3 [0/600000%]\tTrain Loss: 1.387733\n",
      "Train Epoch: 3 [6400/6000011%]\tTrain Loss: 1.251951\n",
      "Train Epoch: 3 [12800/6000021%]\tTrain Loss: 1.168315\n",
      "Train Epoch: 3 [19200/6000032%]\tTrain Loss: 1.035275\n",
      "Train Epoch: 3 [25600/6000043%]\tTrain Loss: 0.890869\n",
      "Train Epoch: 3 [32000/6000053%]\tTrain Loss: 1.242167\n",
      "Train Epoch: 3 [38400/6000064%]\tTrain Loss: 0.883067\n",
      "Train Epoch: 3 [44800/6000075%]\tTrain Loss: 0.798365\n",
      "Train Epoch: 3 [51200/6000085%]\tTrain Loss: 1.028354\n",
      "Train Epoch: 3 [57600/6000096%]\tTrain Loss: 0.726208\n",
      "\n",
      "[EPOCH: 3], \tTest Loss: 0.0238, \tTest Accuracy: 77.98 %\n",
      "\n",
      "Train Epoch: 4 [0/600000%]\tTrain Loss: 0.652435\n",
      "Train Epoch: 4 [6400/6000011%]\tTrain Loss: 0.702230\n",
      "Train Epoch: 4 [12800/6000021%]\tTrain Loss: 0.631410\n",
      "Train Epoch: 4 [19200/6000032%]\tTrain Loss: 0.693466\n",
      "Train Epoch: 4 [25600/6000043%]\tTrain Loss: 0.508056\n",
      "Train Epoch: 4 [32000/6000053%]\tTrain Loss: 0.653603\n",
      "Train Epoch: 4 [38400/6000064%]\tTrain Loss: 0.798690\n",
      "Train Epoch: 4 [44800/6000075%]\tTrain Loss: 0.633613\n",
      "Train Epoch: 4 [51200/6000085%]\tTrain Loss: 0.480974\n",
      "Train Epoch: 4 [57600/6000096%]\tTrain Loss: 0.743039\n",
      "\n",
      "[EPOCH: 4], \tTest Loss: 0.0172, \tTest Accuracy: 83.96 %\n",
      "\n",
      "Train Epoch: 5 [0/600000%]\tTrain Loss: 0.531075\n",
      "Train Epoch: 5 [6400/6000011%]\tTrain Loss: 0.317183\n",
      "Train Epoch: 5 [12800/6000021%]\tTrain Loss: 0.839995\n",
      "Train Epoch: 5 [19200/6000032%]\tTrain Loss: 0.597875\n",
      "Train Epoch: 5 [25600/6000043%]\tTrain Loss: 0.537844\n",
      "Train Epoch: 5 [32000/6000053%]\tTrain Loss: 0.898118\n",
      "Train Epoch: 5 [38400/6000064%]\tTrain Loss: 0.468953\n",
      "Train Epoch: 5 [44800/6000075%]\tTrain Loss: 0.491226\n",
      "Train Epoch: 5 [51200/6000085%]\tTrain Loss: 0.443925\n",
      "Train Epoch: 5 [57600/6000096%]\tTrain Loss: 0.690628\n",
      "\n",
      "[EPOCH: 5], \tTest Loss: 0.0143, \tTest Accuracy: 86.59 %\n",
      "\n",
      "Train Epoch: 6 [0/600000%]\tTrain Loss: 0.552571\n",
      "Train Epoch: 6 [6400/6000011%]\tTrain Loss: 0.502998\n",
      "Train Epoch: 6 [12800/6000021%]\tTrain Loss: 0.564785\n",
      "Train Epoch: 6 [19200/6000032%]\tTrain Loss: 0.394166\n",
      "Train Epoch: 6 [25600/6000043%]\tTrain Loss: 0.354241\n",
      "Train Epoch: 6 [32000/6000053%]\tTrain Loss: 0.409978\n",
      "Train Epoch: 6 [38400/6000064%]\tTrain Loss: 0.462532\n",
      "Train Epoch: 6 [44800/6000075%]\tTrain Loss: 0.270917\n",
      "Train Epoch: 6 [51200/6000085%]\tTrain Loss: 0.396094\n",
      "Train Epoch: 6 [57600/6000096%]\tTrain Loss: 0.588996\n",
      "\n",
      "[EPOCH: 6], \tTest Loss: 0.0128, \tTest Accuracy: 88.14 %\n",
      "\n",
      "Train Epoch: 7 [0/600000%]\tTrain Loss: 0.318372\n",
      "Train Epoch: 7 [6400/6000011%]\tTrain Loss: 0.378419\n",
      "Train Epoch: 7 [12800/6000021%]\tTrain Loss: 0.361278\n",
      "Train Epoch: 7 [19200/6000032%]\tTrain Loss: 0.566379\n",
      "Train Epoch: 7 [25600/6000043%]\tTrain Loss: 0.217594\n",
      "Train Epoch: 7 [32000/6000053%]\tTrain Loss: 0.471648\n",
      "Train Epoch: 7 [38400/6000064%]\tTrain Loss: 0.225340\n",
      "Train Epoch: 7 [44800/6000075%]\tTrain Loss: 0.309335\n",
      "Train Epoch: 7 [51200/6000085%]\tTrain Loss: 0.440931\n",
      "Train Epoch: 7 [57600/6000096%]\tTrain Loss: 0.145962\n",
      "\n",
      "[EPOCH: 7], \tTest Loss: 0.0119, \tTest Accuracy: 88.87 %\n",
      "\n",
      "Train Epoch: 8 [0/600000%]\tTrain Loss: 0.301192\n",
      "Train Epoch: 8 [6400/6000011%]\tTrain Loss: 0.684415\n",
      "Train Epoch: 8 [12800/6000021%]\tTrain Loss: 0.570259\n",
      "Train Epoch: 8 [19200/6000032%]\tTrain Loss: 0.769614\n",
      "Train Epoch: 8 [25600/6000043%]\tTrain Loss: 0.631475\n",
      "Train Epoch: 8 [32000/6000053%]\tTrain Loss: 0.243423\n",
      "Train Epoch: 8 [38400/6000064%]\tTrain Loss: 0.548234\n",
      "Train Epoch: 8 [44800/6000075%]\tTrain Loss: 0.429941\n",
      "Train Epoch: 8 [51200/6000085%]\tTrain Loss: 0.566917\n",
      "Train Epoch: 8 [57600/6000096%]\tTrain Loss: 0.357623\n",
      "\n",
      "[EPOCH: 8], \tTest Loss: 0.0113, \tTest Accuracy: 89.40 %\n",
      "\n",
      "Train Epoch: 9 [0/600000%]\tTrain Loss: 0.294729\n",
      "Train Epoch: 9 [6400/6000011%]\tTrain Loss: 0.395477\n",
      "Train Epoch: 9 [12800/6000021%]\tTrain Loss: 0.319386\n",
      "Train Epoch: 9 [19200/6000032%]\tTrain Loss: 0.262629\n",
      "Train Epoch: 9 [25600/6000043%]\tTrain Loss: 0.243064\n",
      "Train Epoch: 9 [32000/6000053%]\tTrain Loss: 0.290030\n",
      "Train Epoch: 9 [38400/6000064%]\tTrain Loss: 0.256755\n",
      "Train Epoch: 9 [44800/6000075%]\tTrain Loss: 0.209551\n",
      "Train Epoch: 9 [51200/6000085%]\tTrain Loss: 0.441034\n",
      "Train Epoch: 9 [57600/6000096%]\tTrain Loss: 0.253839\n",
      "\n",
      "[EPOCH: 9], \tTest Loss: 0.0109, \tTest Accuracy: 89.85 %\n",
      "\n",
      "Train Epoch: 10 [0/600000%]\tTrain Loss: 0.223439\n",
      "Train Epoch: 10 [6400/6000011%]\tTrain Loss: 0.334289\n",
      "Train Epoch: 10 [12800/6000021%]\tTrain Loss: 0.307194\n",
      "Train Epoch: 10 [19200/6000032%]\tTrain Loss: 0.443784\n",
      "Train Epoch: 10 [25600/6000043%]\tTrain Loss: 0.282360\n",
      "Train Epoch: 10 [32000/6000053%]\tTrain Loss: 0.204500\n",
      "Train Epoch: 10 [38400/6000064%]\tTrain Loss: 0.181100\n",
      "Train Epoch: 10 [44800/6000075%]\tTrain Loss: 0.419423\n",
      "Train Epoch: 10 [51200/6000085%]\tTrain Loss: 0.252935\n",
      "Train Epoch: 10 [57600/6000096%]\tTrain Loss: 0.528047\n",
      "\n",
      "[EPOCH: 10], \tTest Loss: 0.0105, \tTest Accuracy: 90.33 %\n",
      "\n"
     ]
    }
   ],
   "source": [
    "for Epoch in range(1, EPOCHS +1):\n",
    "    train(model, train_loader, optimizer, log_interval =200)\n",
    "    test_loss, test_accuracy = evaluate(model, test_loader)\n",
    "    print(\"\\n[EPOCH: {}], \\tTest Loss: {:.4f}, \\tTest Accuracy: {:.2f} %\\n\".\n",
    "          format(Epoch, test_loss, test_accuracy))"
   ]
  },
  {
   "cell_type": "code",
   "execution_count": null,
   "metadata": {},
   "outputs": [],
   "source": []
  }
 ],
 "metadata": {
  "kernelspec": {
   "display_name": "Python 3",
   "language": "python",
   "name": "python3"
  },
  "language_info": {
   "codemirror_mode": {
    "name": "ipython",
    "version": 3
   },
   "file_extension": ".py",
   "mimetype": "text/x-python",
   "name": "python",
   "nbconvert_exporter": "python",
   "pygments_lexer": "ipython3",
   "version": "3.10.4"
  },
  "orig_nbformat": 4
 },
 "nbformat": 4,
 "nbformat_minor": 2
}
